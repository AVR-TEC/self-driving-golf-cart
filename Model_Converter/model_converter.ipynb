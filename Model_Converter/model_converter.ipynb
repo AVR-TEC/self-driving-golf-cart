{
 "cells": [
  {
   "cell_type": "code",
   "execution_count": 1,
   "metadata": {},
   "outputs": [
    {
     "name": "stderr",
     "output_type": "stream",
     "text": [
      "WARNING:root:Keras version 2.0.8 detected. Last version known to be fully compatible of Keras is 2.0.6 .\n"
     ]
    }
   ],
   "source": [
    "import coremltools"
   ]
  },
  {
   "cell_type": "code",
   "execution_count": 2,
   "metadata": {},
   "outputs": [
    {
     "name": "stderr",
     "output_type": "stream",
     "text": [
      "/Users/Neil/anaconda/lib/python2.7/site-packages/keras/models.py:287: UserWarning: Error in loading the saved optimizer state. As a result, your model is starting with a freshly initialized optimizer.\n",
      "  warnings.warn('Error in loading the saved optimizer '\n"
     ]
    },
    {
     "name": "stdout",
     "output_type": "stream",
     "text": [
      "0 : conv2d_1_input, <keras.engine.topology.InputLayer object at 0x10e148c50>\n",
      "1 : conv2d_1, <keras.layers.convolutional.Conv2D object at 0x1174f5110>\n",
      "2 : activation_1, <keras.layers.core.Activation object at 0x117545110>\n",
      "3 : conv2d_2, <keras.layers.convolutional.Conv2D object at 0x117535450>\n",
      "4 : activation_2, <keras.layers.core.Activation object at 0x117585890>\n",
      "5 : conv2d_3, <keras.layers.convolutional.Conv2D object at 0x1174f54d0>\n",
      "6 : activation_3, <keras.layers.core.Activation object at 0x117576650>\n",
      "7 : conv2d_4, <keras.layers.convolutional.Conv2D object at 0x117576bd0>\n",
      "8 : activation_4, <keras.layers.core.Activation object at 0x1176022d0>\n",
      "9 : conv2d_5, <keras.layers.convolutional.Conv2D object at 0x117612590>\n",
      "10 : flatten_1, <keras.layers.core.Flatten object at 0x1175d3e90>\n",
      "11 : activation_5, <keras.layers.core.Activation object at 0x1175e3710>\n",
      "12 : dense_1, <keras.layers.core.Dense object at 0x117623490>\n",
      "13 : activation_6, <keras.layers.core.Activation object at 0x117681c50>\n",
      "14 : dense_2, <keras.layers.core.Dense object at 0x117673b90>\n",
      "15 : activation_7, <keras.layers.core.Activation object at 0x11768ec90>\n",
      "16 : dense_3, <keras.layers.core.Dense object at 0x11768ef10>\n",
      "17 : activation_8, <keras.layers.core.Activation object at 0x117704f90>\n",
      "18 : dense_4, <keras.layers.core.Dense object at 0x117704410>\n"
     ]
    }
   ],
   "source": [
    "coreml_model = coremltools.converters.keras.convert('trained-v3.h5',\n",
    "                                                   input_names='image',\n",
    "                                                   image_input_names='image',\n",
    "                                                   output_names='angle')"
   ]
  },
  {
   "cell_type": "code",
   "execution_count": 3,
   "metadata": {
    "collapsed": true
   },
   "outputs": [],
   "source": [
    "# Set model metadata\n",
    "coreml_model.author = 'Yongyang Nie'\n",
    "coreml_model.license = 'MIT'\n",
    "coreml_model.short_description = 'Predict the steering angle of a vehicle.'\n",
    "\n",
    "# Save the model\n",
    "coreml_model.save('steering_model_v3.mlmodel')"
   ]
  },
  {
   "cell_type": "code",
   "execution_count": null,
   "metadata": {
    "collapsed": true
   },
   "outputs": [],
   "source": []
  }
 ],
 "metadata": {
  "kernelspec": {
   "display_name": "Python 2",
   "language": "python",
   "name": "python2"
  },
  "language_info": {
   "codemirror_mode": {
    "name": "ipython",
    "version": 2
   },
   "file_extension": ".py",
   "mimetype": "text/x-python",
   "name": "python",
   "nbconvert_exporter": "python",
   "pygments_lexer": "ipython2",
   "version": "2.7.13"
  }
 },
 "nbformat": 4,
 "nbformat_minor": 2
}
