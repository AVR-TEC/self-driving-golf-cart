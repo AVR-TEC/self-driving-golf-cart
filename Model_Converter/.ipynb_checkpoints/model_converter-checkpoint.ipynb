{
 "cells": [
  {
   "cell_type": "code",
   "execution_count": 1,
   "metadata": {},
   "outputs": [
    {
     "name": "stderr",
     "output_type": "stream",
     "text": [
      "WARNING:root:Keras version 2.0.8 detected. Last version known to be fully compatible of Keras is 2.0.6 .\n"
     ]
    }
   ],
   "source": [
    "import coremltools"
   ]
  },
  {
   "cell_type": "code",
   "execution_count": 3,
   "metadata": {},
   "outputs": [
    {
     "name": "stderr",
     "output_type": "stream",
     "text": [
      "/Users/Neil/anaconda/lib/python2.7/site-packages/keras/models.py:287: UserWarning: Error in loading the saved optimizer state. As a result, your model is starting with a freshly initialized optimizer.\n",
      "  warnings.warn('Error in loading the saved optimizer '\n"
     ]
    },
    {
     "name": "stdout",
     "output_type": "stream",
     "text": [
      "0 : conv2d_1_input, <keras.engine.topology.InputLayer object at 0x1201b0ed0>\n",
      "1 : conv2d_1, <keras.layers.convolutional.Conv2D object at 0x1201b0b90>\n",
      "2 : activation_1, <keras.layers.core.Activation object at 0x1202d4dd0>\n",
      "3 : conv2d_2, <keras.layers.convolutional.Conv2D object at 0x1202b9cd0>\n",
      "4 : activation_2, <keras.layers.core.Activation object at 0x120308590>\n",
      "5 : conv2d_3, <keras.layers.convolutional.Conv2D object at 0x1203167d0>\n",
      "6 : activation_3, <keras.layers.core.Activation object at 0x1202e6090>\n",
      "7 : conv2d_4, <keras.layers.convolutional.Conv2D object at 0x120356910>\n",
      "8 : activation_4, <keras.layers.core.Activation object at 0x120393850>\n",
      "9 : conv2d_5, <keras.layers.convolutional.Conv2D object at 0x120270450>\n",
      "10 : flatten_1, <keras.layers.core.Flatten object at 0x120363b10>\n",
      "11 : activation_5, <keras.layers.core.Activation object at 0x1203d8650>\n",
      "12 : dense_1, <keras.layers.core.Dense object at 0x1203c9a90>\n",
      "13 : activation_6, <keras.layers.core.Activation object at 0x1203e7c50>\n",
      "14 : dense_2, <keras.layers.core.Dense object at 0x1204195d0>\n",
      "15 : activation_7, <keras.layers.core.Activation object at 0x1203f7290>\n",
      "16 : dense_3, <keras.layers.core.Dense object at 0x1203f7c10>\n",
      "17 : activation_8, <keras.layers.core.Activation object at 0x120449e10>\n",
      "18 : dense_4, <keras.layers.core.Dense object at 0x120469dd0>\n"
     ]
    }
   ],
   "source": [
    "coreml_model = coremltools.converters.keras.convert('model.h5',\n",
    "                                                   input_names='image',\n",
    "                                                   image_input_names='image',\n",
    "                                                   output_names='angle')"
   ]
  },
  {
   "cell_type": "code",
   "execution_count": 4,
   "metadata": {
    "collapsed": true
   },
   "outputs": [],
   "source": [
    "# Set model metadata\n",
    "coreml_model.author = 'Yongyang Nie'\n",
    "coreml_model.license = 'MIT'\n",
    "coreml_model.short_description = 'Predict the steering angle of a vehicle.'\n",
    "\n",
    "# Save the model\n",
    "coreml_model.save('steering_model_v4.mlmodel')"
   ]
  },
  {
   "cell_type": "code",
   "execution_count": null,
   "metadata": {
    "collapsed": true
   },
   "outputs": [],
   "source": []
  }
 ],
 "metadata": {
  "kernelspec": {
   "display_name": "Python 2",
   "language": "python",
   "name": "python2"
  },
  "language_info": {
   "codemirror_mode": {
    "name": "ipython",
    "version": 2
   },
   "file_extension": ".py",
   "mimetype": "text/x-python",
   "name": "python",
   "nbconvert_exporter": "python",
   "pygments_lexer": "ipython2",
   "version": "2.7.13"
  }
 },
 "nbformat": 4,
 "nbformat_minor": 2
}
