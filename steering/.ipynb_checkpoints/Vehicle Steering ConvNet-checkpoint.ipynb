{
 "cells": [
  {
   "cell_type": "markdown",
   "metadata": {},
   "source": [
    "# Predict steering angle with a simple ConvNet"
   ]
  },
  {
   "cell_type": "code",
   "execution_count": 1,
   "metadata": {},
   "outputs": [
    {
     "name": "stderr",
     "output_type": "stream",
     "text": [
      "Using TensorFlow backend.\n"
     ]
    }
   ],
   "source": [
    "import pandas as pd\n",
    "import os, sys\n",
    "import cv2\n",
    "import numpy as np\n",
    "import matplotlib.pyplot as plt\n",
    "import train_util\n",
    "\n",
    "from keras.models import Model, Sequential\n",
    "from keras.layers import Input\n",
    "from keras.layers.core import Dense, Dropout, Activation, Flatten, Lambda\n",
    "from keras.layers.advanced_activations import LeakyReLU, PReLU\n",
    "from keras.layers.convolutional import Conv2D, Conv2DTranspose, UpSampling2D\n",
    "from keras.layers.normalization import BatchNormalization\n",
    "from keras.applications.imagenet_utils import decode_predictions\n",
    "from keras.utils import plot_model\n",
    "from keras.optimizers import Adam\n",
    "from keras.models import load_model\n",
    "from keras import metrics\n",
    "import keras as K"
   ]
  },
  {
   "cell_type": "markdown",
   "metadata": {
    "collapsed": true
   },
   "source": [
    "# Loading Dataset"
   ]
  },
  {
   "cell_type": "code",
   "execution_count": 2,
   "metadata": {},
   "outputs": [
    {
     "name": "stdout",
     "output_type": "stream",
     "text": [
      "(101396, 12)\n"
     ]
    },
    {
     "data": {
      "text/html": [
       "<div>\n",
       "<style>\n",
       "    .dataframe thead tr:only-child th {\n",
       "        text-align: right;\n",
       "    }\n",
       "\n",
       "    .dataframe thead th {\n",
       "        text-align: left;\n",
       "    }\n",
       "\n",
       "    .dataframe tbody tr th {\n",
       "        vertical-align: top;\n",
       "    }\n",
       "</style>\n",
       "<table border=\"1\" class=\"dataframe\">\n",
       "  <thead>\n",
       "    <tr style=\"text-align: right;\">\n",
       "      <th></th>\n",
       "      <th>index</th>\n",
       "      <th>timestamp</th>\n",
       "      <th>width</th>\n",
       "      <th>height</th>\n",
       "      <th>frame_id</th>\n",
       "      <th>filename</th>\n",
       "      <th>angle</th>\n",
       "      <th>torque</th>\n",
       "      <th>speed</th>\n",
       "      <th>lat</th>\n",
       "      <th>long</th>\n",
       "      <th>alt</th>\n",
       "    </tr>\n",
       "  </thead>\n",
       "  <tbody>\n",
       "    <tr>\n",
       "      <th>0</th>\n",
       "      <td>2016-11-17 23:10:15.873184606</td>\n",
       "      <td>1479424215873184606</td>\n",
       "      <td>640</td>\n",
       "      <td>480</td>\n",
       "      <td>left_camera</td>\n",
       "      <td>left/1479424215873184606.jpg</td>\n",
       "      <td>0.000360</td>\n",
       "      <td>0.375000</td>\n",
       "      <td>23.003350</td>\n",
       "      <td>37.545269</td>\n",
       "      <td>-122.326485</td>\n",
       "      <td>8.116664</td>\n",
       "    </tr>\n",
       "    <tr>\n",
       "      <th>1</th>\n",
       "      <td>2016-11-17 23:10:15.877284689</td>\n",
       "      <td>1479424215877284689</td>\n",
       "      <td>640</td>\n",
       "      <td>480</td>\n",
       "      <td>right_camera</td>\n",
       "      <td>right/1479424215877284689.jpg</td>\n",
       "      <td>0.000717</td>\n",
       "      <td>0.375000</td>\n",
       "      <td>23.003919</td>\n",
       "      <td>37.545269</td>\n",
       "      <td>-122.326485</td>\n",
       "      <td>8.123680</td>\n",
       "    </tr>\n",
       "    <tr>\n",
       "      <th>2</th>\n",
       "      <td>2016-11-17 23:10:15.880976321</td>\n",
       "      <td>1479424215880976321</td>\n",
       "      <td>640</td>\n",
       "      <td>480</td>\n",
       "      <td>center_camera</td>\n",
       "      <td>center/1479424215880976321.jpg</td>\n",
       "      <td>0.001039</td>\n",
       "      <td>0.375000</td>\n",
       "      <td>23.004431</td>\n",
       "      <td>37.545269</td>\n",
       "      <td>-122.326492</td>\n",
       "      <td>8.128418</td>\n",
       "    </tr>\n",
       "    <tr>\n",
       "      <th>3</th>\n",
       "      <td>2016-11-17 23:10:15.922817911</td>\n",
       "      <td>1479424215922817911</td>\n",
       "      <td>640</td>\n",
       "      <td>480</td>\n",
       "      <td>left_camera</td>\n",
       "      <td>left/1479424215922817911.jpg</td>\n",
       "      <td>0.003491</td>\n",
       "      <td>0.394737</td>\n",
       "      <td>23.007310</td>\n",
       "      <td>37.545261</td>\n",
       "      <td>-122.326500</td>\n",
       "      <td>8.139066</td>\n",
       "    </tr>\n",
       "    <tr>\n",
       "      <th>4</th>\n",
       "      <td>2016-11-17 23:10:15.927281227</td>\n",
       "      <td>1479424215927281227</td>\n",
       "      <td>640</td>\n",
       "      <td>480</td>\n",
       "      <td>right_camera</td>\n",
       "      <td>right/1479424215927281227.jpg</td>\n",
       "      <td>0.003491</td>\n",
       "      <td>0.380823</td>\n",
       "      <td>23.006074</td>\n",
       "      <td>37.545261</td>\n",
       "      <td>-122.326500</td>\n",
       "      <td>8.144778</td>\n",
       "    </tr>\n",
       "  </tbody>\n",
       "</table>\n",
       "</div>"
      ],
      "text/plain": [
       "                           index            timestamp  width  height  \\\n",
       "0  2016-11-17 23:10:15.873184606  1479424215873184606    640     480   \n",
       "1  2016-11-17 23:10:15.877284689  1479424215877284689    640     480   \n",
       "2  2016-11-17 23:10:15.880976321  1479424215880976321    640     480   \n",
       "3  2016-11-17 23:10:15.922817911  1479424215922817911    640     480   \n",
       "4  2016-11-17 23:10:15.927281227  1479424215927281227    640     480   \n",
       "\n",
       "        frame_id                        filename     angle    torque  \\\n",
       "0    left_camera    left/1479424215873184606.jpg  0.000360  0.375000   \n",
       "1   right_camera   right/1479424215877284689.jpg  0.000717  0.375000   \n",
       "2  center_camera  center/1479424215880976321.jpg  0.001039  0.375000   \n",
       "3    left_camera    left/1479424215922817911.jpg  0.003491  0.394737   \n",
       "4   right_camera   right/1479424215927281227.jpg  0.003491  0.380823   \n",
       "\n",
       "       speed        lat        long       alt  \n",
       "0  23.003350  37.545269 -122.326485  8.116664  \n",
       "1  23.003919  37.545269 -122.326485  8.123680  \n",
       "2  23.004431  37.545269 -122.326492  8.128418  \n",
       "3  23.007310  37.545261 -122.326500  8.139066  \n",
       "4  23.006074  37.545261 -122.326500  8.144778  "
      ]
     },
     "execution_count": 2,
     "metadata": {},
     "output_type": "execute_result"
    }
   ],
   "source": [
    "import pandas as pd\n",
    "steering_label1 = pd.read_csv(\"/home/ubuntu/dataset/udacity-driving/interpolated.csv\")\n",
    "steering_label2 = pd.read_csv(\"/home/ubuntu/dataset/udacity-driving-testing-ds/interpolated.csv\")\n",
    "steering_labels = steering_label2\n",
    "print(steering_labels.shape)\n",
    "steering_labels.head()"
   ]
  },
  {
   "cell_type": "markdown",
   "metadata": {},
   "source": [
    "## Cropping images"
   ]
  },
  {
   "cell_type": "code",
   "execution_count": 3,
   "metadata": {
    "collapsed": true
   },
   "outputs": [],
   "source": [
    "# file_name = steering_labels.iloc[7][\"filename\"]\n",
    "# img_bgr = cv2.imread(\"/home/ubuntu/dataset/udacity-driving/\" + file_name)\n",
    "# crop_img = img_bgr[200:480, 0:640] # Crop from x, y, w, h -> 100, 200, 300, 400\n",
    "# # NOTE: its img[y: y + h, x: x + w] \n",
    "# plt.imshow(crop_img)\n",
    "# plt.show();"
   ]
  },
  {
   "cell_type": "markdown",
   "metadata": {},
   "source": [
    "# Test generator"
   ]
  },
  {
   "cell_type": "code",
   "execution_count": null,
   "metadata": {},
   "outputs": [],
   "source": [
    "# testing the generator\n",
    "dir = \"/home/ubuntu/dataset/udacity-driving-testing-ds/\"\n",
    "training_gen = train_util.batch_generator(dir, steering_labels.values, 20, True)\n",
    "batch_img, steering_angle = next(training_gen)\n",
    "\n",
    "for i in range(10):\n",
    "    im = np.array(batch_img[i], dtype=np.uint8)\n",
    "    steering = steering_angle[i]\n",
    "    plt.imshow(im)\n",
    "    plt.show();\n",
    "    print(steering)"
   ]
  },
  {
   "cell_type": "code",
   "execution_count": 3,
   "metadata": {},
   "outputs": [
    {
     "ename": "TypeError",
     "evalue": "unsupported operand type(s) for +: 'builtin_function_or_method' and 'str'",
     "output_type": "error",
     "traceback": [
      "\u001b[0;31m---------------------------------------------------------------------------\u001b[0m",
      "\u001b[0;31mTypeError\u001b[0m                                 Traceback (most recent call last)",
      "\u001b[0;32m<ipython-input-3-5cef7dfae11a>\u001b[0m in \u001b[0;36m<module>\u001b[0;34m()\u001b[0m\n\u001b[1;32m      3\u001b[0m \u001b[0;34m\u001b[0m\u001b[0m\n\u001b[1;32m      4\u001b[0m \u001b[0mvalidation_gen\u001b[0m \u001b[0;34m=\u001b[0m \u001b[0mtrain_util\u001b[0m\u001b[0;34m.\u001b[0m\u001b[0mvalidation_generator\u001b[0m\u001b[0;34m(\u001b[0m\u001b[0mdir\u001b[0m\u001b[0;34m,\u001b[0m \u001b[0mval_labels\u001b[0m\u001b[0;34m,\u001b[0m \u001b[0;36m10\u001b[0m\u001b[0;34m)\u001b[0m\u001b[0;34m\u001b[0m\u001b[0m\n\u001b[0;32m----> 5\u001b[0;31m \u001b[0mimgs\u001b[0m\u001b[0;34m,\u001b[0m \u001b[0msteers\u001b[0m \u001b[0;34m=\u001b[0m \u001b[0mnext\u001b[0m\u001b[0;34m(\u001b[0m\u001b[0mvalidation_gen\u001b[0m\u001b[0;34m)\u001b[0m\u001b[0;34m\u001b[0m\u001b[0m\n\u001b[0m\u001b[1;32m      6\u001b[0m \u001b[0;34m\u001b[0m\u001b[0m\n\u001b[1;32m      7\u001b[0m \u001b[0;32mfor\u001b[0m \u001b[0mi\u001b[0m \u001b[0;32min\u001b[0m \u001b[0mrange\u001b[0m\u001b[0;34m(\u001b[0m\u001b[0;36m10\u001b[0m\u001b[0;34m)\u001b[0m\u001b[0;34m:\u001b[0m\u001b[0;34m\u001b[0m\u001b[0m\n",
      "\u001b[0;32m~/ALVNS/Vehicle_Steering/train_util.py\u001b[0m in \u001b[0;36mvalidation_generator\u001b[0;34m(dir, data, batch_size)\u001b[0m\n\u001b[1;32m    115\u001b[0m         \u001b[0;32mfor\u001b[0m \u001b[0mindex\u001b[0m \u001b[0;32min\u001b[0m \u001b[0mnp\u001b[0m\u001b[0;34m.\u001b[0m\u001b[0mrandom\u001b[0m\u001b[0;34m.\u001b[0m\u001b[0mpermutation\u001b[0m\u001b[0;34m(\u001b[0m\u001b[0mdata\u001b[0m\u001b[0;34m.\u001b[0m\u001b[0mshape\u001b[0m\u001b[0;34m[\u001b[0m\u001b[0;36m0\u001b[0m\u001b[0;34m]\u001b[0m\u001b[0;34m)\u001b[0m\u001b[0;34m:\u001b[0m\u001b[0;34m\u001b[0m\u001b[0m\n\u001b[1;32m    116\u001b[0m \u001b[0;34m\u001b[0m\u001b[0m\n\u001b[0;32m--> 117\u001b[0;31m             \u001b[0mpath\u001b[0m \u001b[0;34m=\u001b[0m \u001b[0mdir\u001b[0m \u001b[0;34m+\u001b[0m \u001b[0;34m\"center/\"\u001b[0m \u001b[0;34m+\u001b[0m \u001b[0mstr\u001b[0m\u001b[0;34m(\u001b[0m\u001b[0mdata\u001b[0m\u001b[0;34m[\u001b[0m\u001b[0;34m\"frame_id\"\u001b[0m\u001b[0;34m]\u001b[0m\u001b[0;34m[\u001b[0m\u001b[0mi\u001b[0m\u001b[0;34m]\u001b[0m\u001b[0;34m)\u001b[0m \u001b[0;34m+\u001b[0m \u001b[0;34m\".jpg\"\u001b[0m\u001b[0;34m\u001b[0m\u001b[0m\n\u001b[0m\u001b[1;32m    118\u001b[0m             \u001b[0msteering_angle\u001b[0m \u001b[0;34m=\u001b[0m \u001b[0mdata\u001b[0m\u001b[0;34m[\u001b[0m\u001b[0;34m\"steering_angle\"\u001b[0m\u001b[0;34m]\u001b[0m\u001b[0;34m[\u001b[0m\u001b[0;36m1\u001b[0m\u001b[0;34m]\u001b[0m\u001b[0;34m\u001b[0m\u001b[0m\n\u001b[1;32m    119\u001b[0m \u001b[0;34m\u001b[0m\u001b[0m\n",
      "\u001b[0;31mTypeError\u001b[0m: unsupported operand type(s) for +: 'builtin_function_or_method' and 'str'"
     ]
    }
   ],
   "source": [
    "val_dir = \"/home/ubuntu/dataset/small-testing-ds/\"\n",
    "val_labels = pd.read_csv(val_dir + \"interpolated.csv\")\n",
    "\n",
    "validation_gen = train_util.validation_generator(val_dir, val_labels, 10)\n",
    "imgs, steers = next(validation_gen)\n",
    "\n",
    "for i in range(10):\n",
    "    im = np.array(imgs[i], dtype=np.uint8)\n",
    "    steering = steers[i]\n",
    "    plt.imshow(im)\n",
    "    plt.show();\n",
    "    print(steering)"
   ]
  },
  {
   "cell_type": "markdown",
   "metadata": {},
   "source": [
    "# ConvNets"
   ]
  },
  {
   "cell_type": "code",
   "execution_count": null,
   "metadata": {
    "collapsed": true
   },
   "outputs": [],
   "source": [
    "def root_mean_squared_error(y_true, y_pred):\n",
    "        return K.backend.sqrt(K.backend.mean(K.backend.square(y_pred - y_true), axis=-1)) "
   ]
  },
  {
   "cell_type": "code",
   "execution_count": null,
   "metadata": {
    "collapsed": true
   },
   "outputs": [],
   "source": [
    "def create_comma_model_prelu():\n",
    "    model = Sequential()\n",
    "\n",
    "    model.add(Conv2D(16, 8, 8, subsample=(4, 4), border_mode=\"same\", input_shape=(480, 640, 3)))\n",
    "    model.add(PReLU())\n",
    "    model.add(Conv2D(32, 5, 5, subsample=(2, 2), border_mode=\"same\"))\n",
    "    model.add(PReLU())\n",
    "    model.add(Conv2D(64, 5, 5, subsample=(2, 2), border_mode=\"same\"))\n",
    "    model.add(Flatten())\n",
    "    #model.add(Dropout(.5))\n",
    "    model.add(PReLU())\n",
    "    model.add(Dense(512))\n",
    "    #model.add(Dropout(.5))\n",
    "    model.add(PReLU())\n",
    "    model.add(Dense(1))\n",
    "\n",
    "    model.compile(optimizer=\"adam\", loss=\"mse\")\n",
    "\n",
    "    print('Model is created and compiled..')\n",
    "    return model"
   ]
  },
  {
   "cell_type": "code",
   "execution_count": null,
   "metadata": {
    "collapsed": true
   },
   "outputs": [],
   "source": [
    "def create_nvidia_model():\n",
    "    model = Sequential()\n",
    "\n",
    "    model.add(Conv2D(24, (5, 5), padding=\"same\", strides = 2, input_shape=(480, 640, 3)))\n",
    "    model.add(Activation('relu'))\n",
    "    model.add(Conv2D(36, (5, 5), padding=\"same\", strides = 2))\n",
    "    model.add(Activation('relu'))\n",
    "    model.add(Conv2D(48, (5, 5), padding=\"same\", strides = 2))\n",
    "    model.add(Activation('relu'))\n",
    "    model.add(Conv2D(64, (3, 3), padding=\"same\", strides = 2))\n",
    "    model.add(Activation('relu'))\n",
    "    model.add(Conv2D(64, (3, 3), padding=\"same\", strides = 2))\n",
    "    model.add(Flatten())\n",
    "    model.add(Activation('relu'))\n",
    "    model.add(Dense(512))\n",
    "    model.add(Activation('relu'))\n",
    "    model.add(Dense(256))\n",
    "    model.add(Activation('relu'))\n",
    "    model.add(Dense(128))\n",
    "    model.add(Activation('relu'))\n",
    "    model.add(Dense(1))\n",
    "    adam = Adam(lr=1e-4)\n",
    "    model.compile(optimizer=adam, loss=root_mean_squared_error)\n",
    "\n",
    "    print('Model is created and compiled..')\n",
    "    return model"
   ]
  },
  {
   "cell_type": "code",
   "execution_count": null,
   "metadata": {
    "collapsed": true
   },
   "outputs": [],
   "source": []
  },
  {
   "cell_type": "code",
   "execution_count": null,
   "metadata": {},
   "outputs": [],
   "source": [
    "model = create_nvidia_model()\n",
    "model.summary()"
   ]
  },
  {
   "cell_type": "code",
   "execution_count": null,
   "metadata": {},
   "outputs": [],
   "source": [
    "model.fit_generator(train_util.batch_generator(dir, steering_labels.values, 8, True),\n",
    "                        steps_per_epoch=2000, epochs=10, verbose=1,\n",
    "                        validation_data=train_util.batch_generator(dir, steering_labels.values, 2, False),\n",
    "                        validation_steps=200)"
   ]
  },
  {
   "cell_type": "code",
   "execution_count": null,
   "metadata": {},
   "outputs": [],
   "source": [
    "model.save(\"trained2_v1.h5\")\n",
    "# testing the results\n",
    "#model = load_model('trained-v4.h5')\n",
    "predictions = model.predict(batch_img)\n",
    "\n",
    "for i in range(20):\n",
    "    im = np.array(batch_img[i], dtype=np.uint8)\n",
    "    plt.imshow(im)\n",
    "    plt.show();\n",
    "    print(steering_angle[i])\n",
    "    print(predictions[i])"
   ]
  },
  {
   "cell_type": "code",
   "execution_count": null,
   "metadata": {
    "collapsed": true
   },
   "outputs": [],
   "source": []
  }
 ],
 "metadata": {
  "kernelspec": {
   "display_name": "Python 3",
   "language": "python",
   "name": "python3"
  },
  "language_info": {
   "codemirror_mode": {
    "name": "ipython",
    "version": 3
   },
   "file_extension": ".py",
   "mimetype": "text/x-python",
   "name": "python",
   "nbconvert_exporter": "python",
   "pygments_lexer": "ipython3",
   "version": "3.6.2"
  }
 },
 "nbformat": 4,
 "nbformat_minor": 2
}
