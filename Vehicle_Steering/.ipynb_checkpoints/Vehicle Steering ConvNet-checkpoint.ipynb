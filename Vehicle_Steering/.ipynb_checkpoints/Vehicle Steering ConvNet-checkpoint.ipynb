{
 "cells": [
  {
   "cell_type": "markdown",
   "metadata": {},
   "source": [
    "# Predict steering angle with a simple ConvNet"
   ]
  },
  {
   "cell_type": "code",
   "execution_count": 1,
   "metadata": {},
   "outputs": [
    {
     "name": "stderr",
     "output_type": "stream",
     "text": [
      "Using TensorFlow backend.\n"
     ]
    }
   ],
   "source": [
    "import pandas as pd\n",
    "import os, sys\n",
    "import cv2\n",
    "import numpy as np\n",
    "import matplotlib.pyplot as plt\n",
    "\n",
    "from keras.models import Model, Sequential\n",
    "from keras.layers import Input\n",
    "from keras.layers.core import Dense, Dropout, Activation, Flatten, Lambda\n",
    "from keras.layers.advanced_activations import LeakyReLU, PReLU\n",
    "from keras.layers.convolutional import Conv2D, Conv2DTranspose, UpSampling2D\n",
    "from keras.layers.pooling import AveragePooling2D, MaxPooling2D\n",
    "from keras.layers.pooling import GlobalAveragePooling2D\n",
    "from keras.layers.normalization import BatchNormalization\n",
    "from keras.applications.imagenet_utils import decode_predictions\n",
    "from keras.utils import plot_model\n",
    "from keras.optimizers import Adam\n",
    "from keras.models import load_model\n",
    "from keras import metrics\n",
    "import keras as K"
   ]
  },
  {
   "cell_type": "code",
   "execution_count": null,
   "metadata": {
    "collapsed": true
   },
   "outputs": [],
   "source": []
  },
  {
   "cell_type": "code",
   "execution_count": 2,
   "metadata": {},
   "outputs": [
    {
     "name": "stdout",
     "output_type": "stream",
     "text": [
      "(45636, 12)\n"
     ]
    },
    {
     "data": {
      "text/html": [
       "<div>\n",
       "<style>\n",
       "    .dataframe thead tr:only-child th {\n",
       "        text-align: right;\n",
       "    }\n",
       "\n",
       "    .dataframe thead th {\n",
       "        text-align: left;\n",
       "    }\n",
       "\n",
       "    .dataframe tbody tr th {\n",
       "        vertical-align: top;\n",
       "    }\n",
       "</style>\n",
       "<table border=\"1\" class=\"dataframe\">\n",
       "  <thead>\n",
       "    <tr style=\"text-align: right;\">\n",
       "      <th></th>\n",
       "      <th>index</th>\n",
       "      <th>timestamp</th>\n",
       "      <th>width</th>\n",
       "      <th>height</th>\n",
       "      <th>frame_id</th>\n",
       "      <th>filename</th>\n",
       "      <th>angle</th>\n",
       "      <th>torque</th>\n",
       "      <th>speed</th>\n",
       "      <th>lat</th>\n",
       "      <th>long</th>\n",
       "      <th>alt</th>\n",
       "    </tr>\n",
       "  </thead>\n",
       "  <tbody>\n",
       "    <tr>\n",
       "      <th>0</th>\n",
       "      <td>2016-09-29 22:09:25.602401049</td>\n",
       "      <td>1475186965602401049</td>\n",
       "      <td>640</td>\n",
       "      <td>480</td>\n",
       "      <td>left_camera</td>\n",
       "      <td>left/1475186965602401049.jpg</td>\n",
       "      <td>-0.045649</td>\n",
       "      <td>-0.644359</td>\n",
       "      <td>14.605986</td>\n",
       "      <td>0.0</td>\n",
       "      <td>0.0</td>\n",
       "      <td>0.0</td>\n",
       "    </tr>\n",
       "    <tr>\n",
       "      <th>1</th>\n",
       "      <td>2016-09-29 22:09:25.609972775</td>\n",
       "      <td>1475186965609972775</td>\n",
       "      <td>640</td>\n",
       "      <td>480</td>\n",
       "      <td>center_camera</td>\n",
       "      <td>center/1475186965609972775.jpg</td>\n",
       "      <td>-0.046314</td>\n",
       "      <td>-0.691983</td>\n",
       "      <td>14.607044</td>\n",
       "      <td>0.0</td>\n",
       "      <td>0.0</td>\n",
       "      <td>0.0</td>\n",
       "    </tr>\n",
       "    <tr>\n",
       "      <th>2</th>\n",
       "      <td>2016-09-29 22:09:25.630938502</td>\n",
       "      <td>1475186965630938502</td>\n",
       "      <td>640</td>\n",
       "      <td>480</td>\n",
       "      <td>right_camera</td>\n",
       "      <td>right/1475186965630938502.jpg</td>\n",
       "      <td>-0.047124</td>\n",
       "      <td>-0.677232</td>\n",
       "      <td>14.611567</td>\n",
       "      <td>0.0</td>\n",
       "      <td>0.0</td>\n",
       "      <td>0.0</td>\n",
       "    </tr>\n",
       "    <tr>\n",
       "      <th>3</th>\n",
       "      <td>2016-09-29 22:09:25.652132892</td>\n",
       "      <td>1475186965652132892</td>\n",
       "      <td>640</td>\n",
       "      <td>480</td>\n",
       "      <td>left_camera</td>\n",
       "      <td>left/1475186965652132892.jpg</td>\n",
       "      <td>-0.047124</td>\n",
       "      <td>-0.585284</td>\n",
       "      <td>14.615654</td>\n",
       "      <td>0.0</td>\n",
       "      <td>0.0</td>\n",
       "      <td>0.0</td>\n",
       "    </tr>\n",
       "    <tr>\n",
       "      <th>4</th>\n",
       "      <td>2016-09-29 22:09:25.659735933</td>\n",
       "      <td>1475186965659735933</td>\n",
       "      <td>640</td>\n",
       "      <td>480</td>\n",
       "      <td>center_camera</td>\n",
       "      <td>center/1475186965659735933.jpg</td>\n",
       "      <td>-0.047099</td>\n",
       "      <td>-0.560746</td>\n",
       "      <td>14.616667</td>\n",
       "      <td>0.0</td>\n",
       "      <td>0.0</td>\n",
       "      <td>0.0</td>\n",
       "    </tr>\n",
       "  </tbody>\n",
       "</table>\n",
       "</div>"
      ],
      "text/plain": [
       "                           index            timestamp  width  height  \\\n",
       "0  2016-09-29 22:09:25.602401049  1475186965602401049    640     480   \n",
       "1  2016-09-29 22:09:25.609972775  1475186965609972775    640     480   \n",
       "2  2016-09-29 22:09:25.630938502  1475186965630938502    640     480   \n",
       "3  2016-09-29 22:09:25.652132892  1475186965652132892    640     480   \n",
       "4  2016-09-29 22:09:25.659735933  1475186965659735933    640     480   \n",
       "\n",
       "        frame_id                        filename     angle    torque  \\\n",
       "0    left_camera    left/1475186965602401049.jpg -0.045649 -0.644359   \n",
       "1  center_camera  center/1475186965609972775.jpg -0.046314 -0.691983   \n",
       "2   right_camera   right/1475186965630938502.jpg -0.047124 -0.677232   \n",
       "3    left_camera    left/1475186965652132892.jpg -0.047124 -0.585284   \n",
       "4  center_camera  center/1475186965659735933.jpg -0.047099 -0.560746   \n",
       "\n",
       "       speed  lat  long  alt  \n",
       "0  14.605986  0.0   0.0  0.0  \n",
       "1  14.607044  0.0   0.0  0.0  \n",
       "2  14.611567  0.0   0.0  0.0  \n",
       "3  14.615654  0.0   0.0  0.0  \n",
       "4  14.616667  0.0   0.0  0.0  "
      ]
     },
     "execution_count": 2,
     "metadata": {},
     "output_type": "execute_result"
    }
   ],
   "source": [
    "import pandas as pd\n",
    "steering_labels = pd.read_csv(\"/home/ubuntu/dataset/udacity-driving/interpolated.csv\")\n",
    "print(steering_labels.shape)\n",
    "steering_labels.head()"
   ]
  },
  {
   "cell_type": "code",
   "execution_count": 3,
   "metadata": {},
   "outputs": [
    {
     "ename": "SyntaxError",
     "evalue": "invalid syntax (<ipython-input-3-429b60aa64a3>, line 60)",
     "output_type": "error",
     "traceback": [
      "\u001b[0;36m  File \u001b[0;32m\"<ipython-input-3-429b60aa64a3>\"\u001b[0;36m, line \u001b[0;32m60\u001b[0m\n\u001b[0;31m    else if i == 1:\u001b[0m\n\u001b[0m          ^\u001b[0m\n\u001b[0;31mSyntaxError\u001b[0m\u001b[0;31m:\u001b[0m invalid syntax\n"
     ]
    }
   ],
   "source": [
    "def rotate(img):\n",
    "    row, col, channel = img.shape\n",
    "    angle = np.random.uniform(-15, 15)\n",
    "    rotation_point = (row / 2, col / 2)\n",
    "    rotation_matrix = cv2.getRotationMatrix2D(rotation_point, angle, 1)\n",
    "    rotated_img = cv2.warpAffine(img, rotation_matrix, (col, row))\n",
    "    return rotated_img\n",
    "\n",
    "\n",
    "def gamma(img):\n",
    "    gamma = np.random.uniform(0.5, 1.2)\n",
    "    invGamma = 1.0 / gamma\n",
    "    table = np.array([((i / 255.0) ** invGamma) * 255 for i in np.arange(0, 256)]).astype(\"uint8\")\n",
    "    new_img = cv2.LUT(img, table)\n",
    "    return new_img\n",
    "\n",
    "\n",
    "def blur(img):\n",
    "    r_int = np.random.randint(0, 2)\n",
    "    odd_size = 2 * r_int + 1\n",
    "    return cv2.GaussianBlur(img, (odd_size, odd_size), 0)\n",
    "\n",
    "def random_transform(img):\n",
    "    # There are total of 3 transformation\n",
    "    # I will create an boolean array of 3 elements [ 0 or 1]\n",
    "    a = np.random.randint(0, 2, [1, 3]).astype('bool')[0]\n",
    "    if a[0] == 1:\n",
    "        img = rotate(img)\n",
    "    if a[1] == 1:\n",
    "        img = blur(img)\n",
    "    if a[2] == 1:\n",
    "        img = gamma(img)\n",
    "    return img\n",
    "\n",
    "def generate_train_batch(data, batch_size = 16):\n",
    "\n",
    "    img_rows = 480\n",
    "    img_cols = 640\n",
    "    \n",
    "    batch_images = np.zeros((batch_size, img_rows, img_cols, 3))\n",
    "    angles = np.zeros((batch_size, 1))\n",
    "    while 1:\n",
    "        for i_batch in range(batch_size):\n",
    "            i_line = np.random.randint(2000)\n",
    "            i_line = i_line+len(data)-2000\n",
    "            \n",
    "            file_name = steering_labels.iloc[i_line][\"filename\"]\n",
    "            img_bgr = cv2.imread(\"/home/ubuntu/dataset/udacity-driving/\" + file_name)\n",
    "            \n",
    "            b,g,r = cv2.split(img_bgr)       # get b,g,r\n",
    "            rgb_img = cv2.merge([r,g,b])     # switch it to rgb\n",
    "            \n",
    "            f =  float(steering_labels.iloc[i_line][\"angle\"]) #* 57.2958 #float(* 180.00 / 3.14159265359 )\n",
    "    \n",
    "            i = np.random.randint(2)\n",
    "            if i == 0:\n",
    "                flipped_image = cv2.flip(rgb_img, 1)\n",
    "                f = f * -1.0\n",
    "                rgb_img = flipped_image\n",
    "            elif i == 1:\n",
    "                rgb_img = random_transform(rgb_img)\n",
    "    \n",
    "            batch_images[i_batch] = rgb_img\n",
    "            angles[i_batch] = f\n",
    "        yield batch_images, angles"
   ]
  },
  {
   "cell_type": "code",
   "execution_count": null,
   "metadata": {},
   "outputs": [],
   "source": [
    "# testing the generator\n",
    "training_gen = generate_train_batch(steering_labels, 5)\n",
    "batch_img, steering_angle = next(training_gen)\n",
    "\n",
    "for i in range(5):\n",
    "    im = np.array(batch_img[i], dtype=np.uint8)\n",
    "    steering = steering_angle[i]\n",
    "    plt.imshow(im)\n",
    "    plt.show();\n",
    "    print(steering)\n",
    "    \n",
    "print(batch_img.shape)\n",
    "print(steering_angle.shape)"
   ]
  },
  {
   "cell_type": "code",
   "execution_count": null,
   "metadata": {
    "collapsed": true
   },
   "outputs": [],
   "source": [
    "# # frame size\n",
    "# nrows = 480\n",
    "# ncols = 640\n",
    "\n",
    "# # model start here\n",
    "# model = Sequential()\n",
    "\n",
    "# model.add(MaxPooling2D(pool_size=(2, 2), strides=None, padding='valid', input_shape=(480, 640, 3)))\n",
    "# model.add(Conv2D(12,(5,5),padding='valid', activation='relu', strides=(2,2)))\n",
    "# model.add(Conv2D(24,(5,5),padding='valid', activation='relu', strides=(2,2)))\n",
    "# model.add(Conv2D(24,(5,5),padding='valid', activation='relu', strides=(2,2)))\n",
    "# model.add(Conv2D(48,(3,3),padding='valid', activation='relu', strides=(1,1)))\n",
    "# model.add(Conv2D(64,(3,3),padding='valid', activation='relu', strides=(1,1)))\n",
    "# model.add(Flatten())\n",
    "# model.add(Dense(500, activation='relu'))\n",
    "# model.add(Dense(100, activation='relu'))\n",
    "# model.add(Dense(50, activation='relu'))\n",
    "# model.add(Dense(10, activation='relu'))\n",
    "# model.add(Dense(1, activation=None))\n",
    "\n",
    "# model.summary()"
   ]
  },
  {
   "cell_type": "code",
   "execution_count": null,
   "metadata": {
    "collapsed": true
   },
   "outputs": [],
   "source": [
    "def create_comma_model_prelu():\n",
    "    model = Sequential()\n",
    "\n",
    "    model.add(Conv2D(16, 8, 8, subsample=(4, 4), border_mode=\"same\", input_shape=(480, 640, 3)))\n",
    "    model.add(PReLU())\n",
    "    model.add(Conv2D(32, 5, 5, subsample=(2, 2), border_mode=\"same\"))\n",
    "    model.add(PReLU())\n",
    "    model.add(Conv2D(64, 5, 5, subsample=(2, 2), border_mode=\"same\"))\n",
    "    model.add(Flatten())\n",
    "    #model.add(Dropout(.5))\n",
    "    model.add(PReLU())\n",
    "    model.add(Dense(512))\n",
    "    #model.add(Dropout(.5))\n",
    "    model.add(PReLU())\n",
    "    model.add(Dense(1))\n",
    "\n",
    "    model.compile(optimizer=\"adam\", loss=\"mse\")\n",
    "\n",
    "    print('Model is created and compiled..')\n",
    "    return model"
   ]
  },
  {
   "cell_type": "code",
   "execution_count": null,
   "metadata": {
    "collapsed": true
   },
   "outputs": [],
   "source": [
    "def create_nvidia_model1():\n",
    "    model = Sequential()\n",
    "\n",
    "    model.add(Conv2D(24, (5, 5), padding=\"same\", strides = 2, input_shape=(480, 640, 3)))\n",
    "    model.add(Activation('relu'))\n",
    "    model.add(Conv2D(36, (5, 5), padding=\"same\", strides = 2))\n",
    "    model.add(Activation('relu'))\n",
    "    model.add(Conv2D(48, (5, 5), padding=\"same\", strides = 2))\n",
    "    model.add(Activation('relu'))\n",
    "    model.add(Conv2D(64, (3, 3), padding=\"same\", strides = 2))\n",
    "    model.add(Activation('relu'))\n",
    "    model.add(Conv2D(64, (3, 3), padding=\"same\", strides = 2))\n",
    "    model.add(Flatten())\n",
    "    model.add(Activation('relu'))\n",
    "    model.add(Dense(256))\n",
    "    model.add(Activation('relu'))\n",
    "    model.add(Dense(128))\n",
    "    model.add(Activation('relu'))\n",
    "    model.add(Dense(64))\n",
    "    model.add(Activation('relu'))\n",
    "    model.add(Dense(1))\n",
    "    adam = Adam(lr=1e-4)\n",
    "    model.compile(optimizer=adam, loss=\"mse\")\n",
    "\n",
    "    print('Model is created and compiled..')\n",
    "    return model"
   ]
  },
  {
   "cell_type": "code",
   "execution_count": null,
   "metadata": {
    "collapsed": true
   },
   "outputs": [],
   "source": [
    "# def root_mean_squared_error(y_true, y_pred):\n",
    "#         return K.backend.sqrt(K.backend.mean(K.backend.square(y_pred - y_true), axis=-1)) "
   ]
  },
  {
   "cell_type": "code",
   "execution_count": null,
   "metadata": {},
   "outputs": [],
   "source": [
    "model = create_nvidia_model1()\n",
    "model.summary()"
   ]
  },
  {
   "cell_type": "code",
   "execution_count": null,
   "metadata": {},
   "outputs": [],
   "source": [
    "generator = generate_train_batch(steering_labels, 1)\n",
    "history = model.fit_generator(generator, steps_per_epoch=10000, epochs=5, verbose=1)"
   ]
  },
  {
   "cell_type": "code",
   "execution_count": null,
   "metadata": {},
   "outputs": [],
   "source": [
    "# testing the results\n",
    "model = load_model('trained-v4.h5')\n",
    "predictions = model.predict(batch_img)\n",
    "\n",
    "for i in range(5):\n",
    "    im = np.array(batch_img[i], dtype=np.uint8)\n",
    "    plt.imshow(im)\n",
    "    plt.show();\n",
    "    print(steering_angle[i])\n",
    "    print(predictions[i])"
   ]
  },
  {
   "cell_type": "code",
   "execution_count": null,
   "metadata": {
    "collapsed": true
   },
   "outputs": [],
   "source": []
  }
 ],
 "metadata": {
  "kernelspec": {
   "display_name": "Python 3",
   "language": "python",
   "name": "python3"
  },
  "language_info": {
   "codemirror_mode": {
    "name": "ipython",
    "version": 3
   },
   "file_extension": ".py",
   "mimetype": "text/x-python",
   "name": "python",
   "nbconvert_exporter": "python",
   "pygments_lexer": "ipython3",
   "version": "3.6.2"
  }
 },
 "nbformat": 4,
 "nbformat_minor": 2
}
