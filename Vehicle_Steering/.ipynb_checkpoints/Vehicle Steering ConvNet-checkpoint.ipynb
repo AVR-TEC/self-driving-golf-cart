{
 "cells": [
  {
   "cell_type": "markdown",
   "metadata": {},
   "source": [
    "# Predict steering angle with a simple ConvNet"
   ]
  },
  {
   "cell_type": "code",
   "execution_count": null,
   "metadata": {
    "collapsed": true
   },
   "outputs": [],
   "source": [
    "import pandas as pd\n",
    "import os, sys\n",
    "import cv2\n",
    "import numpy as np\n",
    "import matplotlib.pyplot as plt\n",
    "import matplotlib\n",
    "import steering_img_util\n",
    "from keras.models import load_model\n",
    "\n",
    "from keras.models import Model, Sequential\n",
    "from keras.layers.core import Dense, Dropout, Activation, Flatten\n",
    "from keras.layers.convolutional import Conv2D, Conv2DTranspose, UpSampling2D\n",
    "from keras.layers.pooling import AveragePooling2D, MaxPooling2D\n",
    "from keras.layers.pooling import GlobalAveragePooling2D\n",
    "from keras.layers import Input\n",
    "from keras.layers.normalization import BatchNormalization\n",
    "from keras.regularizers import l2\n",
    "from keras.utils.data_utils import get_file\n",
    "from keras.engine.topology import get_source_inputs\n",
    "from keras.applications.imagenet_utils import _obtain_input_shape\n",
    "from keras.applications.imagenet_utils import decode_predictions\n",
    "from keras.utils import plot_model\n",
    "from keras.optimizers import Adam\n",
    "import keras as K"
   ]
  },
  {
   "cell_type": "code",
   "execution_count": null,
   "metadata": {
    "collapsed": true
   },
   "outputs": [],
   "source": [
    "steering_labels = pd.read_csv(\"/home/ubuntu/dataset/udacity-driving/interpolated.csv\")\n",
    "print(steering_labels.shape)\n",
    "steering_labels.head()"
   ]
  },
  {
   "cell_type": "code",
   "execution_count": null,
   "metadata": {
    "collapsed": true
   },
   "outputs": [],
   "source": [
    "def generate_train_batch(data, batch_size = 16):\n",
    "\n",
    "    img_rows = 480\n",
    "    img_cols = 640\n",
    "    \n",
    "    batch_images = np.zeros((batch_size, img_rows, img_cols, 3))\n",
    "    angles = np.zeros((batch_size, 1))\n",
    "    while 1:\n",
    "        for i_batch in range(batch_size):\n",
    "            i_line = np.random.randint(30000)\n",
    "            \n",
    "            file_name = steering_labels.iloc[i_line][\"filename\"]\n",
    "            img_bgr = cv2.imread(\"/home/ubuntu/dataset/udacity-driving/\" + file_name)\n",
    "            \n",
    "            b,g,r = cv2.split(img_bgr)       # get b,g,r\n",
    "            rgb_img = cv2.merge([r,g,b])     # switch it to rgb\n",
    "            \n",
    "            f =  float(steering_labels.iloc[i_line][\"angle\"]) * 57.2958 #float(* 180.00 / 3.14159265359 )\n",
    "    \n",
    "            batch_images[i_batch] = rgb_img\n",
    "            angles[i_batch] = f\n",
    "        yield batch_images, angles"
   ]
  },
  {
   "cell_type": "code",
   "execution_count": null,
   "metadata": {
    "collapsed": true
   },
   "outputs": [],
   "source": [
    "# testing the generator\n",
    "training_gen = generate_train_batch(steering_labels, 5)\n",
    "batch_img, steering_angle = next(training_gen)\n",
    "\n",
    "for i in range(5):\n",
    "    im = np.array(batch_img[i], dtype=np.uint8)\n",
    "    steering = steering_angle[i]\n",
    "    plt.imshow(im)\n",
    "    plt.show();\n",
    "    print(steering)\n",
    "    \n",
    "print(batch_img.shape)\n",
    "print(steering_angle.shape)"
   ]
  },
  {
   "cell_type": "code",
   "execution_count": null,
   "metadata": {
    "collapsed": true
   },
   "outputs": [],
   "source": [
    "# frame size\n",
    "nrows = 480\n",
    "ncols = 640\n",
    "\n",
    "# model start here\n",
    "model = Sequential()\n",
    "\n",
    "model.add(MaxPooling2D(pool_size=(2, 2), strides=None, padding='valid', input_shape=(480, 640, 3)))\n",
    "model.add(BatchNormalization(epsilon=0.001, axis=1))\n",
    "model.add(Conv2D(12,(5,5),padding='valid', activation='relu', strides=(2,2)))\n",
    "model.add(Conv2D(12,(5,5),padding='valid', activation='relu', strides=(2,2)))\n",
    "model.add(Conv2D(24,(5,5),padding='valid', activation='relu', strides=(2,2)))\n",
    "model.add(Conv2D(24,(3,3),padding='valid', activation='relu', strides=(1,1)))\n",
    "model.add(Conv2D(48,(3,3),padding='valid', activation='relu', strides=(1,1)))\n",
    "model.add(Flatten())\n",
    "model.add(Dense(500, activation='relu'))\n",
    "model.add(Dense(100, activation='relu'))\n",
    "model.add(Dense(50, activation='relu'))\n",
    "model.add(Dense(10, activation='relu'))\n",
    "model.add(Dense(1, activation=None))\n",
    "\n",
    "model.summary()"
   ]
  },
  {
   "cell_type": "code",
   "execution_count": null,
   "metadata": {
    "collapsed": true
   },
   "outputs": [],
   "source": [
    "def root_mean_squared_error(y_true, y_pred):\n",
    "        return K.backend.sqrt(K.backend.mean(K.backend.square(y_pred - y_true), axis=-1)) "
   ]
  },
  {
   "cell_type": "code",
   "execution_count": null,
   "metadata": {
    "collapsed": true
   },
   "outputs": [],
   "source": [
    "from keras.models import load_model\n",
    "adam = Adam(lr=0.0001)\n",
    "model.compile(loss=root_mean_squared_error,\n",
    "              optimizer=adam,\n",
    "              metrics=[\"accuracy\"])\n",
    "\n",
    "\n",
    "model.save('my_model.h5')"
   ]
  },
  {
   "cell_type": "code",
   "execution_count": null,
   "metadata": {
    "collapsed": true
   },
   "outputs": [],
   "source": [
    "generator = generate_train_batch(steering_labels, 1)\n",
    "history = model.fit_generator(generator, steps_per_epoch=10000, epochs=5, verbose=1)"
   ]
  },
  {
   "cell_type": "code",
   "execution_count": null,
   "metadata": {
    "collapsed": true
   },
   "outputs": [],
   "source": [
    "# testing the results\n",
    "testing_gen = generate_train_batch(steering_labels, 10)\n",
    "imgs, angels = next(testing_gen)\n",
    "predictions = model.predict(batch_img)\n",
    "\n",
    "for i in range(10):\n",
    "    im = np.array(batch_img[i], dtype=np.uint8)\n",
    "    plt.imshow(im)\n",
    "    plt.show();\n",
    "    print(steering_angle[i])\n",
    "    print(predictions[i])\n",
    "model.save('trained.h5')"
   ]
  },
  {
   "cell_type": "code",
   "execution_count": null,
   "metadata": {
    "collapsed": true
   },
   "outputs": [],
   "source": []
  },
  {
   "cell_type": "code",
   "execution_count": null,
   "metadata": {
    "collapsed": true
   },
   "outputs": [],
   "source": []
  }
 ],
 "metadata": {
  "kernelspec": {
   "display_name": "Python 3",
   "language": "python",
   "name": "python3"
  },
  "language_info": {
   "codemirror_mode": {
    "name": "ipython",
    "version": 3
   },
   "file_extension": ".py",
   "mimetype": "text/x-python",
   "name": "python",
   "nbconvert_exporter": "python",
   "pygments_lexer": "ipython3",
   "version": "3.6.2"
  }
 },
 "nbformat": 4,
 "nbformat_minor": 2
}
