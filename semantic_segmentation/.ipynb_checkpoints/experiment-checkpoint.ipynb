{
 "cells": [
  {
   "cell_type": "code",
   "execution_count": 1,
   "metadata": {},
   "outputs": [
    {
     "name": "stderr",
     "output_type": "stream",
     "text": [
      "Using TensorFlow backend.\n"
     ]
    }
   ],
   "source": [
    "import utils\n",
    "import cv2\n",
    "import configs\n",
    "import numpy as np\n",
    "import matplotlib.pyplot as plt\n",
    "import models.enet_naive_upsampling.model as enet"
   ]
  },
  {
   "cell_type": "code",
   "execution_count": 2,
   "metadata": {},
   "outputs": [],
   "source": [
    "img = utils.load_image(\"./result3_1.png\")\n",
    "crop1 = img[int(img.shape[0] / 5 * 4):img.shape[0], \n",
    "            int(img.shape[1] / 4):int(img.shape[1] / 4 * 3), :]"
   ]
  },
  {
   "cell_type": "code",
   "execution_count": null,
   "metadata": {},
   "outputs": [],
   "source": [
    "plt.imshow(crop1)"
   ]
  },
  {
   "cell_type": "markdown",
   "metadata": {},
   "source": [
    "## making some predictions"
   ]
  },
  {
   "cell_type": "code",
   "execution_count": 3,
   "metadata": {},
   "outputs": [],
   "source": [
    "m = enet.build(len(utils.labels), configs.img_height, configs.img_width)\n",
    "# m = icnet.build(3, 512, 512)\n",
    "m.load_weights(\"./enet-c-v1-2.h5\")"
   ]
  },
  {
   "cell_type": "code",
   "execution_count": null,
   "metadata": {},
   "outputs": [],
   "source": [
    "image = utils.load_image(\"./testing_imgs/stop-2.jpeg\")\n",
    "image = np.array(image, dtype=np.uint8)\n",
    "im_mask = m.predict(np.array([image]))[0]"
   ]
  },
  {
   "cell_type": "markdown",
   "metadata": {},
   "source": [
    "## experiments"
   ]
  },
  {
   "cell_type": "code",
   "execution_count": null,
   "metadata": {},
   "outputs": [],
   "source": [
    "print(im_mask.shape)\n",
    "threshold = 0.05"
   ]
  },
  {
   "cell_type": "code",
   "execution_count": null,
   "metadata": {},
   "outputs": [],
   "source": [
    "total_obs = 0\n",
    "im_mask = im_mask[int(im_mask.shape[0] / 5 * 4) : im_mask.shape[0], \n",
    "                        int(im_mask.shape[1] / 4) : int(im_mask.shape[1] / 4 * 3), :]\n",
    "print(im_mask.shape)\n",
    "\n",
    "for i in range(9, 13):\n",
    "    sub_mask = im_mask[:, :, i]\n",
    "    \n",
    "    sub_mask[sub_mask > threshold] = 1\n",
    "    sub_mask[sub_mask < threshold] = 0\n",
    "    obs_mask = sub_mask[sub_mask == 1]\n",
    "    total_obs += len(obs_mask)\n",
    "#     print(obs_mask.shape)\n",
    "#     print(sub_mask.shape)\n",
    "\n",
    "perc_obs = total_obs / (im_mask.shape[0] * im_mask.shape[1])\n",
    "if perc_obs >= 0.20:\n",
    "    return 0"
   ]
  },
  {
   "cell_type": "code",
   "execution_count": null,
   "metadata": {},
   "outputs": [],
   "source": [
    "print(total_obs)"
   ]
  },
  {
   "cell_type": "markdown",
   "metadata": {},
   "source": [
    "## Actually testing the seg analyzer"
   ]
  },
  {
   "cell_type": "code",
   "execution_count": 4,
   "metadata": {},
   "outputs": [],
   "source": [
    "from segmentation_analyzer import SegAnalyzer\n",
    "seg_analyzer = SegAnalyzer(0.05)"
   ]
  },
  {
   "cell_type": "code",
   "execution_count": 5,
   "metadata": {},
   "outputs": [],
   "source": [
    "stop_1 = utils.load_image(\"./testing_imgs/stop-2.jpeg\")\n",
    "image = np.array(stop_1, dtype=np.uint8)\n",
    "stop_1_mask = m.predict(np.array([image]))[0]"
   ]
  },
  {
   "cell_type": "code",
   "execution_count": 6,
   "metadata": {},
   "outputs": [
    {
     "name": "stdout",
     "output_type": "stream",
     "text": [
      "(72, 320, 13)\n"
     ]
    }
   ],
   "source": [
    "value = seg_analyzer.analyze_image(stop_1_mask)"
   ]
  },
  {
   "cell_type": "code",
   "execution_count": 7,
   "metadata": {},
   "outputs": [
    {
     "name": "stdout",
     "output_type": "stream",
     "text": [
      "0\n"
     ]
    }
   ],
   "source": [
    "print(value)"
   ]
  },
  {
   "cell_type": "code",
   "execution_count": 9,
   "metadata": {},
   "outputs": [],
   "source": [
    "move = utils.load_image(\"./testing_imgs/test_2.jpg\")\n",
    "image = np.array(move, dtype=np.uint8)\n",
    "move_mask = m.predict(np.array([image]))[0]"
   ]
  },
  {
   "cell_type": "code",
   "execution_count": 13,
   "metadata": {},
   "outputs": [
    {
     "name": "stdout",
     "output_type": "stream",
     "text": [
      "(72, 320, 13)\n",
      "1\n"
     ]
    }
   ],
   "source": [
    "value = seg_analyzer.analyze_image(move_mask)\n",
    "print(value)"
   ]
  },
  {
   "cell_type": "code",
   "execution_count": 11,
   "metadata": {},
   "outputs": [],
   "source": []
  },
  {
   "cell_type": "code",
   "execution_count": null,
   "metadata": {},
   "outputs": [],
   "source": []
  }
 ],
 "metadata": {
  "kernelspec": {
   "display_name": "Python 3",
   "language": "python",
   "name": "python3"
  },
  "language_info": {
   "codemirror_mode": {
    "name": "ipython",
    "version": 3
   },
   "file_extension": ".py",
   "mimetype": "text/x-python",
   "name": "python",
   "nbconvert_exporter": "python",
   "pygments_lexer": "ipython3",
   "version": "3.6.4"
  }
 },
 "nbformat": 4,
 "nbformat_minor": 2
}
